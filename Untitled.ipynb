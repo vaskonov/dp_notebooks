{
 "cells": [
  {
   "cell_type": "code",
   "execution_count": 2,
   "metadata": {},
   "outputs": [],
   "source": [
    "import pandas as pd\n",
    "level_one = pd.read_csv('11')"
   ]
  },
  {
   "cell_type": "code",
   "execution_count": 3,
   "metadata": {},
   "outputs": [
    {
     "name": "stderr",
     "output_type": "stream",
     "text": [
      "[nltk_data] Downloading package punkt to /home/com/nltk_data...\n",
      "[nltk_data]   Package punkt is already up-to-date!\n",
      "[nltk_data] Downloading package stopwords to /home/com/nltk_data...\n",
      "[nltk_data]   Package stopwords is already up-to-date!\n",
      "[nltk_data] Downloading package perluniprops to /home/com/nltk_data...\n",
      "[nltk_data]   Package perluniprops is already up-to-date!\n",
      "[nltk_data] Downloading package nonbreaking_prefixes to\n",
      "[nltk_data]     /home/com/nltk_data...\n",
      "[nltk_data]   Package nonbreaking_prefixes is already up-to-date!\n",
      "2018-12-20 16:38:55.536 INFO in 'pymorphy2.opencorpora_dict.wrapper'['wrapper'] at line 16: Loading dictionaries from /home/com/miniconda2/envs/py36/lib/python3.6/site-packages/pymorphy2_dicts/data\n",
      "2018-12-20 16:38:55.647 INFO in 'pymorphy2.opencorpora_dict.wrapper'['wrapper'] at line 20: format: 2.4, revision: 393442, updated: 2015-01-17T16:03:56.586168\n",
      "2018-12-20 16:38:55.668 WARNING in 'deeppavlov.models.sklearn.sklearn_component'['sklearn_component'] at line 217: Cannot load model from /home/com/Shared/dp_notebooks1/models_level_0/models/vectorizer/tfidf_vectorizer_ruwiki.pkl\n",
      "2018-12-20 16:38:55.670 INFO in 'deeppavlov.models.sklearn.sklearn_component'['sklearn_component'] at line 164: Initializing model sklearn.feature_extraction.text:TfidfVectorizer from scratch\n",
      "2018-12-20 16:38:55.678 INFO in 'deeppavlov.models.sklearn.sklearn_component'['sklearn_component'] at line 107: Fitting model sklearn.feature_extraction.text:TfidfVectorizer\n",
      "2018-12-20 16:38:55.686 INFO in 'deeppavlov.models.sklearn.sklearn_component'['sklearn_component'] at line 239: Saving model to /home/com/Shared/dp_notebooks1/models_level_0/models/vectorizer/tfidf_vectorizer_ruwiki.pkl\n",
      "2018-12-20 16:38:55.698 INFO in 'deeppavlov.models.classifiers.cos_sim_classifier'['cos_sim_classifier'] at line 120: Saving faq_model to /home/com/Shared/dp_notebooks1/models_level_0/models/faq/tfidf_cos_sim_classifier.pkl\n",
      "2018-12-20 16:38:55.700 INFO in 'pymorphy2.opencorpora_dict.wrapper'['wrapper'] at line 16: Loading dictionaries from /home/com/miniconda2/envs/py36/lib/python3.6/site-packages/pymorphy2_dicts/data\n",
      "2018-12-20 16:38:55.808 INFO in 'pymorphy2.opencorpora_dict.wrapper'['wrapper'] at line 20: format: 2.4, revision: 393442, updated: 2015-01-17T16:03:56.586168\n",
      "2018-12-20 16:38:55.811 INFO in 'deeppavlov.models.sklearn.sklearn_component'['sklearn_component'] at line 201: Loading model sklearn.feature_extraction.text:TfidfVectorizer from /home/com/Shared/dp_notebooks1/models_level_0/models/vectorizer/tfidf_vectorizer_ruwiki.pkl\n",
      "2018-12-20 16:38:55.812 INFO in 'deeppavlov.models.sklearn.sklearn_component'['sklearn_component'] at line 208: Model sklearn.feature_extraction.textTfidfVectorizer loaded  with parameters\n",
      "2018-12-20 16:38:55.813 WARNING in 'deeppavlov.models.sklearn.sklearn_component'['sklearn_component'] at line 214: Fitting of loaded model can not be continued. Model can be fitted from scratch.If one needs to continue fitting, please, look at `warm_start` parameter\n",
      "2018-12-20 16:38:55.815 INFO in 'deeppavlov.models.classifiers.cos_sim_classifier'['cos_sim_classifier'] at line 125: Loading faq_model from /home/com/Shared/dp_notebooks1/models_level_0/models/faq/tfidf_cos_sim_classifier.pkl\n"
     ]
    }
   ],
   "source": [
    "from deeppavlov.core.common.file import read_json\n",
    "from deeppavlov import configs\n",
    "from deeppavlov import train_model\n",
    "\n",
    "config_level_0 = read_json(configs.faq.tfidf_autofaq)\n",
    "config_level_0['dataset_reader']['data_url'] = './11'\n",
    "config_level_0['dataset_reader']['x_col_name'] = 'Question'\n",
    "config_level_0['dataset_reader']['y_col_name'] = 'Answer'\n",
    "config_level_0['metadata']['variables']['ROOT_PATH'] = './models_level_0/'\n",
    "model_level_0 = train_model(config_level_0)"
   ]
  },
  {
   "cell_type": "code",
   "execution_count": 4,
   "metadata": {},
   "outputs": [
    {
     "data": {
      "text/plain": [
       "[['book_table'], [1.0]]"
      ]
     },
     "execution_count": 4,
     "metadata": {},
     "output_type": "execute_result"
    }
   ],
   "source": [
    "a = model_level_0([\"I would like to book a table\"])\n",
    "a"
   ]
  },
  {
   "cell_type": "code",
   "execution_count": 5,
   "metadata": {},
   "outputs": [
    {
     "name": "stderr",
     "output_type": "stream",
     "text": [
      "2018-12-20 16:38:57.432 INFO in 'pymorphy2.opencorpora_dict.wrapper'['wrapper'] at line 16: Loading dictionaries from /home/com/miniconda2/envs/py36/lib/python3.6/site-packages/pymorphy2_dicts/data\n",
      "2018-12-20 16:38:57.512 INFO in 'pymorphy2.opencorpora_dict.wrapper'['wrapper'] at line 20: format: 2.4, revision: 393442, updated: 2015-01-17T16:03:56.586168\n",
      "2018-12-20 16:38:57.516 WARNING in 'deeppavlov.models.sklearn.sklearn_component'['sklearn_component'] at line 217: Cannot load model from /home/com/Shared/dp_notebooks1/models_level_1/models/vectorizer/tfidf_vectorizer_ruwiki.pkl\n",
      "2018-12-20 16:38:57.517 INFO in 'deeppavlov.models.sklearn.sklearn_component'['sklearn_component'] at line 164: Initializing model sklearn.feature_extraction.text:TfidfVectorizer from scratch\n",
      "2018-12-20 16:38:57.520 INFO in 'deeppavlov.models.sklearn.sklearn_component'['sklearn_component'] at line 107: Fitting model sklearn.feature_extraction.text:TfidfVectorizer\n",
      "2018-12-20 16:38:57.524 INFO in 'deeppavlov.models.sklearn.sklearn_component'['sklearn_component'] at line 239: Saving model to /home/com/Shared/dp_notebooks1/models_level_1/models/vectorizer/tfidf_vectorizer_ruwiki.pkl\n",
      "2018-12-20 16:38:57.527 INFO in 'deeppavlov.models.classifiers.cos_sim_classifier'['cos_sim_classifier'] at line 120: Saving faq_model to /home/com/Shared/dp_notebooks1/models_level_1/models/faq/tfidf_cos_sim_classifier.pkl\n",
      "2018-12-20 16:38:57.528 INFO in 'pymorphy2.opencorpora_dict.wrapper'['wrapper'] at line 16: Loading dictionaries from /home/com/miniconda2/envs/py36/lib/python3.6/site-packages/pymorphy2_dicts/data\n",
      "2018-12-20 16:38:57.655 INFO in 'pymorphy2.opencorpora_dict.wrapper'['wrapper'] at line 20: format: 2.4, revision: 393442, updated: 2015-01-17T16:03:56.586168\n",
      "2018-12-20 16:38:57.658 INFO in 'deeppavlov.models.sklearn.sklearn_component'['sklearn_component'] at line 201: Loading model sklearn.feature_extraction.text:TfidfVectorizer from /home/com/Shared/dp_notebooks1/models_level_1/models/vectorizer/tfidf_vectorizer_ruwiki.pkl\n",
      "2018-12-20 16:38:57.659 INFO in 'deeppavlov.models.sklearn.sklearn_component'['sklearn_component'] at line 208: Model sklearn.feature_extraction.textTfidfVectorizer loaded  with parameters\n",
      "2018-12-20 16:38:57.660 WARNING in 'deeppavlov.models.sklearn.sklearn_component'['sklearn_component'] at line 214: Fitting of loaded model can not be continued. Model can be fitted from scratch.If one needs to continue fitting, please, look at `warm_start` parameter\n",
      "2018-12-20 16:38:57.662 INFO in 'deeppavlov.models.classifiers.cos_sim_classifier'['cos_sim_classifier'] at line 125: Loading faq_model from /home/com/Shared/dp_notebooks1/models_level_1/models/faq/tfidf_cos_sim_classifier.pkl\n"
     ]
    },
    {
     "data": {
      "text/plain": [
       "[['we have a private room at 18:00'], [1.0]]"
      ]
     },
     "execution_count": 5,
     "metadata": {},
     "output_type": "execute_result"
    }
   ],
   "source": [
    "config_level_1 = read_json(configs.faq.tfidf_autofaq)\n",
    "config_level_1['dataset_reader']['data_url'] = './22'\n",
    "config_level_1['dataset_reader']['x_col_name'] = 'Question'\n",
    "config_level_1['dataset_reader']['y_col_name'] = 'Answer'\n",
    "config_level_1['metadata']['variables']['ROOT_PATH'] = './models_level_1/'\n",
    "model_level_1 = train_model(config_level_1)\n",
    "b = model_level_1([\"business meeting\"])\n",
    "b"
   ]
  }
 ],
 "metadata": {
  "kernelspec": {
   "display_name": "Python 3",
   "language": "python",
   "name": "python3"
  },
  "language_info": {
   "codemirror_mode": {
    "name": "ipython",
    "version": 3
   },
   "file_extension": ".py",
   "mimetype": "text/x-python",
   "name": "python",
   "nbconvert_exporter": "python",
   "pygments_lexer": "ipython3",
   "version": "3.6.4"
  }
 },
 "nbformat": 4,
 "nbformat_minor": 2
}
