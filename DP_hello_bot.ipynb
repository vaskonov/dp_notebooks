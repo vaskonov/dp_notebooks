{
  "nbformat": 4,
  "nbformat_minor": 0,
  "metadata": {
    "colab": {
      "name": "DP:hello_bot.ipynb",
      "version": "0.3.2",
      "provenance": [],
      "collapsed_sections": []
    },
    "kernelspec": {
      "display_name": "Python 3",
      "language": "python",
      "name": "python3"
    }
  },
  "cells": [
    {
      "metadata": {
        "id": "b1ncTZNSDi-e",
        "colab_type": "text"
      },
      "cell_type": "markdown",
      "source": [
        "# DeepPavlov: Hello bot!\n",
        "\n",
        "\n",
        "This notebook contains essential information on how to a build pattern-matching chat-bot with the [DeepPavlov](https://github.com/deepmipt/DeepPavlov) framework. DeepPavlov is an open-source conversational AI framework. Before delving into the code it would be useful to explain at a high level how DeepPavlov works. \n",
        "\n",
        "The smallest building block of the library is **Component**. Component stands for any kind of function in an NLP pipeline. It can be implemented as a neural network, a non-neural ML model or a rule-based system. Besides that, Component can have a nested structure, i.e. Component can include other Components.\n",
        "\n",
        "Components can be joined into **Skill**. Skill solves a larger NLP task compared to Component. However, in terms of implementation Skills are not different from Components. \n",
        "\n",
        "**Agent** is supposed to be a multi-purpose dialogue system that comprises several Skills and can switch between them. It can be a dialogue system that contains a goal-oriented and chatbot skills and chooses which one to use for generating the answer depending on an user input.\n",
        "\n",
        "Now you know enough theory to implement an introductory level chatbot with the open-source DeepPavlov framework."
      ]
    },
    {
      "metadata": {
        "id": "koWvWtkyE6cz",
        "colab_type": "text"
      },
      "cell_type": "markdown",
      "source": [
        "# Requirements\n",
        "\n",
        "First, install all required packages"
      ]
    },
    {
      "metadata": {
        "id": "YAM0K6D0E7OJ",
        "colab_type": "code",
        "outputId": "bba84c3e-8714-4a09-d14c-6461c05b69f5",
        "colab": {
          "base_uri": "https://localhost:8080/",
          "height": 289
        }
      },
      "cell_type": "code",
      "source": [
        "!pip install deeppavlov"
      ],
      "execution_count": 0,
      "outputs": [
        {
          "output_type": "stream",
          "text": [
            "Collecting deeppavlov\n",
            "\u001b[?25l  Downloading https://files.pythonhosted.org/packages/76/ff/f11a83fba6f4dd4702448a636e5fc0fe062401d4c2a5c407d3798cd60796/deeppavlov-0.1.0-py3-none-any.whl (509kB)\n",
            "\u001b[K    100% |████████████████████████████████| 512kB 24.3MB/s \n",
            "\u001b[?25hCollecting pytelegrambotapi==3.5.2 (from deeppavlov)\n",
            "\u001b[?25l  Downloading https://files.pythonhosted.org/packages/a4/5a/7aab147b253f19e5ef007316f39cf693a63d5cd7f654c3805c76f6bde979/pyTelegramBotAPI-3.5.2.tar.gz (51kB)\n",
            "\u001b[K    100% |████████████████████████████████| 61kB 24.8MB/s \n",
            "\u001b[?25hCollecting flask==1.0.2 (from deeppavlov)\n",
            "\u001b[?25l  Downloading https://files.pythonhosted.org/packages/7f/e7/08578774ed4536d3242b14dacb4696386634607af824ea997202cd0edb4b/Flask-1.0.2-py2.py3-none-any.whl (91kB)\n",
            "\u001b[K    100% |████████████████████████████████| 92kB 30.6MB/s \n",
            "\u001b[?25hCollecting flasgger==0.9.1 (from deeppavlov)\n",
            "\u001b[?25l  Downloading https://files.pythonhosted.org/packages/f7/4c/8735be27bebb88b0acbdc9db1d522583db10821aec3d3fb6112df0f41701/flasgger-0.9.1-py2.py3-none-any.whl (4.1MB)\n",
            "\u001b[K    100% |████████████████████████████████| 4.1MB 6.2MB/s \n",
            "\u001b[?25hCollecting Cython==0.28.5 (from deeppavlov)\n",
            "\u001b[?25l  Downloading https://files.pythonhosted.org/packages/19/8e/32b280abb0947a96cdbb8329fb2014851a21fc1d099009f946ea8a8202c3/Cython-0.28.5-cp36-cp36m-manylinux1_x86_64.whl (3.4MB)\n",
            "\u001b[K    65% |█████████████████████           | 2.2MB 56.6MB/s eta 0:00:01\n",
            "\u001b[31mOperation cancelled by user\u001b[0m\n",
            "\u001b[?25h"
          ],
          "name": "stdout"
        }
      ]
    },
    {
      "metadata": {
        "id": "8AHT9VCPFCmX",
        "colab_type": "text"
      },
      "cell_type": "markdown",
      "source": [
        "# Hello bot!"
      ]
    },
    {
      "metadata": {
        "id": "SLD0l8RRDi-m",
        "colab_type": "text"
      },
      "cell_type": "markdown",
      "source": [
        "Possibly the most delightful part of discovering a new programming framework is the \"Hello, world!\" example. Our HelloBot will be able to recognize a greetings message and reply with * \"Hello world!\"* In addition, upon receiving a goodbye message, it will respond with one of the predefined goodbye messages.  Otherwise, it will reply with the message *\"I don’t understand, sorry\"*."
      ]
    },
    {
      "metadata": {
        "id": "9MF7LQ51Di-n",
        "colab_type": "code",
        "colab": {}
      },
      "cell_type": "code",
      "source": [
        "from deeppavlov.skills.pattern_matching_skill import PatternMatchingSkill\n",
        "from deeppavlov.agents.default_agent.default_agent import DefaultAgent\n",
        "from deeppavlov.agents.processors.highest_confidence_selector import HighestConfidenceSelector"
      ],
      "execution_count": 0,
      "outputs": []
    },
    {
      "metadata": {
        "id": "UPIvQ3KEDi-r",
        "colab_type": "text"
      },
      "cell_type": "markdown",
      "source": [
        "Then create Skills with corresponding patterns and predefined responses.\n",
        "\n"
      ]
    },
    {
      "metadata": {
        "id": "m0Gs3NqeDi-s",
        "colab_type": "code",
        "colab": {}
      },
      "cell_type": "code",
      "source": [
        "hello = PatternMatchingSkill(responses=['Hello world!'], patterns=[\"hi\", \"hello\", \"good day\"])\n",
        "bye = PatternMatchingSkill(['Goodbye world!', 'See you around'], patterns=[\"bye\", \"chao\", \"see you\"])\n",
        "fallback = PatternMatchingSkill([\"I don't understand, sorry\"])"
      ],
      "execution_count": 0,
      "outputs": []
    },
    {
      "metadata": {
        "id": "F8zEWcn-Di-v",
        "colab_type": "text"
      },
      "cell_type": "markdown",
      "source": [
        "The Agent executes Skills and then takes the highest-confidence responses from them.\n"
      ]
    },
    {
      "metadata": {
        "id": "mJ5NIu4MDi-x",
        "colab_type": "code",
        "colab": {}
      },
      "cell_type": "code",
      "source": [
        "agent = DefaultAgent([hello, bye, fallback], skills_selector=HighestConfidenceSelector())"
      ],
      "execution_count": 0,
      "outputs": []
    },
    {
      "metadata": {
        "id": "oHIZ5X7WDi-z",
        "colab_type": "text"
      },
      "cell_type": "markdown",
      "source": [
        "Give the floor to the HelloBot!"
      ]
    },
    {
      "metadata": {
        "id": "NwvROayNDi-1",
        "colab_type": "code",
        "colab": {}
      },
      "cell_type": "code",
      "source": [
        "agent(['Hello', 'Bye', 'Or not'])"
      ],
      "execution_count": 0,
      "outputs": []
    },
    {
      "metadata": {
        "id": "IXJeRGjWIwib",
        "colab_type": "text"
      },
      "cell_type": "markdown",
      "source": [
        "In addition to the exact text matching, our framework supports regular expressions."
      ]
    },
    {
      "metadata": {
        "id": "LIHCRCM0Ihvw",
        "colab_type": "code",
        "colab": {}
      },
      "cell_type": "code",
      "source": [
        "hello = PatternMatchingSkill(responses=[\"Hello world!\"], patterns=[\"(hi|hello|good day)\"], regex = True)\n",
        "sorry = PatternMatchingSkill(responses=[\"don’t be sorry\", \"Please don’t\"], patterns=[\"(sorry|excuse)\"], regex = True)\n",
        "perhaps = PatternMatchingSkill(responses=[\"Please be more specific\"], patterns=[\"(.*)perhaps(.*)\"], regex = True)\n",
        "\n",
        "agent = DefaultAgent([hello, sorry, perhaps], skills_selector=HighestConfidenceSelector())\n",
        "agent(['hi, how are you', 'I am sorry', 'perhaps I am not sure'])"
      ],
      "execution_count": 0,
      "outputs": []
    },
    {
      "metadata": {
        "id": "bpRVgfN2GkvA",
        "colab_type": "text"
      },
      "cell_type": "markdown",
      "source": [
        "Do not hesitate to add more Skills in the same manner. Now you know how to create simple rule-based chatbots by using the DeepPavlov framework. In the next article, we will describe techniques that will help you develop more advanced chatbots.\n"
      ]
    },
    {
      "metadata": {
        "id": "t4YWv_96Ftdv",
        "colab_type": "text"
      },
      "cell_type": "markdown",
      "source": [
        "# Useful links\n",
        "\n",
        "[DeepPavlov repository](https://github.com/deepmipt/DeepPavlov)\n",
        "\n",
        "[DeepPavlov demo page](demo.ipavlov.ai)\n",
        "\n",
        "[DeepPavlov documentation](docs.deeppavlov.ai)"
      ]
    }
  ]
}